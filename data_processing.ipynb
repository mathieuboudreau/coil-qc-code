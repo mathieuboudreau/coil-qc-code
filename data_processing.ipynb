{
 "cells": [
  {
   "cell_type": "markdown",
   "id": "95b98c3f",
   "metadata": {},
   "source": [
    "## Setup"
   ]
  },
  {
   "cell_type": "code",
   "execution_count": null,
   "id": "4f78c5ea",
   "metadata": {},
   "outputs": [],
   "source": [
    "# Necessary imports\n",
    "\n",
    "from datetime import datetime, timedelta\n",
    "import os\n",
    "import re\n",
    "import json\n",
    "import subprocess\n",
    "import glob\n",
    "import itertools\n",
    "import matplotlib.pyplot as plt\n",
    "import numpy as np\n",
    "import nibabel as nib\n",
    "import pandas as pd\n",
    "from scipy.interpolate import interp1d\n",
    "from scipy.ndimage import uniform_filter1d\n",
    "from scipy.stats import f_oneway, ttest_rel\n",
    "import shutil\n",
    "from statsmodels.stats.multicomp import pairwise_tukeyhsd\n",
    "from statsmodels.stats.anova import AnovaRM\n",
    "import statsmodels.api as sm"
   ]
  },
  {
   "cell_type": "code",
   "execution_count": null,
   "id": "abf35a2e",
   "metadata": {},
   "outputs": [],
   "source": [
    "start_time = datetime.now()"
   ]
  },
  {
   "cell_type": "code",
   "execution_count": null,
   "id": "6fe120e8",
   "metadata": {},
   "outputs": [],
   "source": [
    "# Define useful variables\n",
    "path_data = os.path.join(os.getcwd(), \"data/\")\n",
    "print(f\"path_data: {path_data}\")\n",
    "path_labels = os.path.join(path_data, \"derivatives\", \"labels\")\n",
    "path_qc = os.path.join(path_data, \"qc\")\n",
    "subjects = [os.path.basename(subject_path) for subject_path in sorted(glob.glob(os.path.join(path_data, \"sub-*\")))]\n",
    "print(f\"subjects: {subjects}\")\n",
    "\n",
    "# Create output folder\n",
    "path_results = os.path.join(path_data, \"derivatives\", \"results\")\n",
    "os.makedirs(path_results, exist_ok=True)"
   ]
  },
  {
   "cell_type": "code",
   "execution_count": null,
   "id": "4587c21e",
   "metadata": {},
   "outputs": [],
   "source": [
    "# Remove SpinozaV6 for now\n",
    "for subject in subjects:\n",
    "    if subject[-1] == \"4\":\n",
    "        subjects.remove(subject)\n",
    "print(subjects)"
   ]
  },
  {
   "cell_type": "markdown",
   "id": "b0c4e225",
   "metadata": {},
   "source": [
    "## MP2RAGE segmentation"
   ]
  },
  {
   "cell_type": "code",
   "execution_count": null,
   "id": "e95d87a4-3194-4369-b6cb-933ad1d5cfa3",
   "metadata": {},
   "outputs": [],
   "source": [
    "# Run segmentation on MP2RAGE scan\n",
    "\n",
    "for subject in subjects:\n",
    "    os.chdir(os.path.join(path_data, subject, \"anat\"))\n",
    "    fname_manual_seg = os.path.join(path_labels, subject, \"anat\", f\"{subject}_UNIT1-SC_seg.nii.gz\")\n",
    "    if os.path.exists(fname_manual_seg):\n",
    "        # Manual segmentation already exists. Copy it to local folder\n",
    "        print(f\"{subject}: Manual segmentation found\\n\")\n",
    "        shutil.copyfile(fname_manual_seg, f\"{subject}_UNIT1_seg.nii.gz\")\n",
    "        # Generate QC report to make sure the manual segmentation is correct\n",
    "        !sct_qc -i {subject}_UNIT1.nii.gz -s {subject}_UNIT1_seg.nii.gz -p sct_deepseg_sc -qc {path_qc} -qc-subject {subject}\n",
    "    else:\n",
    "        # Manual segmentation does not exist. Run automatic segmentation.\n",
    "        print(f\"{subject}: Manual segmentation not found\")\n",
    "        !sct_deepseg_sc -i \"{subject}_UNIT1.nii.gz\" -c t1 -qc \"{path_qc}\""
   ]
  },
  {
   "cell_type": "markdown",
   "id": "bda7c3ac",
   "metadata": {},
   "source": [
    "## Process fmap/TFL (flip angle maps)"
   ]
  },
  {
   "cell_type": "code",
   "execution_count": null,
   "id": "e0cde907",
   "metadata": {},
   "outputs": [],
   "source": [
    "# Register TFL flip angle maps to the GRE scan ⏳\n",
    "\n",
    "for subject in subjects:\n",
    "    os.chdir(os.path.join(path_data, subject, \"fmap\"))\n",
    "    !sct_register_multimodal -i {subject}_acq-anat_TB1TFL.nii.gz -d ../anat/{subject}_UNIT1.nii.gz -dseg ../anat/{subject}_UNIT1_seg.nii.gz -param step=1,type=im,algo=slicereg,metric=CC -qc \"{path_qc}\""
   ]
  },
  {
   "cell_type": "code",
   "execution_count": null,
   "id": "6a6d7670",
   "metadata": {},
   "outputs": [],
   "source": [
    "# Warping spinal cord segmentation and vertebral level to each flip angle map\n",
    "\n",
    "for subject in subjects:\n",
    "    os.chdir(os.path.join(path_data, subject, \"fmap\"))\n",
    "    !sct_apply_transfo -i ../anat/{subject}_UNIT1_seg.nii.gz -d {subject}_acq-anat_TB1TFL.nii.gz -w warp_{subject}_UNIT12{subject}_acq-anat_TB1TFL.nii.gz -x linear -o {subject}_acq-anat_TB1TFL_seg.nii.gz"
   ]
  },
  {
   "cell_type": "code",
   "execution_count": null,
   "id": "a835cdee",
   "metadata": {},
   "outputs": [],
   "source": [
    "# Convert the flip angle maps to B1+ efficiency maps [nT/V] (inspired by code from Kyle Gilbert)\n",
    "# The approach consists in calculating the B1+ efficiency using a 1ms, pi-pulse at the acquisition voltage,\n",
    "# then scale the efficiency by the ratio of the measured flip angle to the requested flip angle in the pulse sequence.\n",
    "\n",
    "GAMMA = 2.675e8;  # [rad / (s T)]\n",
    "requested_fa = 90  # saturation flip angle -- hard-coded in sequence\n",
    "\n",
    "for subject in subjects:\n",
    "    os.chdir(os.path.join(path_data, subject, \"fmap\"))\n",
    "    # Fetch the reference voltage from the JSON sidecar to the TFL B1map sequence\n",
    "    with open(f\"{subject}_acq-famp_TB1TFL.json\", \"r\") as f:\n",
    "        metadata = json.load(f)\n",
    "        ref_voltage = metadata.get(\"TxRefAmp\", \"N/A\")\n",
    "        if (ref_voltage == \"N/A\"):\n",
    "            ref_token = \"N/A\"\n",
    "            for token in metadata.get(\"SeriesDescription\", \"N/A\").split(\"_\"):\n",
    "                if token.startswith(\"RefV\"): ref_token = token\n",
    "            ref_voltage = float(ref_token[4:-1])\n",
    "        print(f\"ref_voltage [V]: {ref_voltage} ({subject}_acq-famp_TB1TFL)\")\n",
    "\n",
    "    # Open flip angle map with nibabel\n",
    "    nii = nib.load(f\"{subject}_acq-famp_TB1TFL.nii.gz\")\n",
    "    acquired_fa = nii.get_fdata()\n",
    "\n",
    "    # Siemens maps are in units of flip angle * 10 (in degrees)\n",
    "    acquired_fa = acquired_fa / 10\n",
    "\n",
    "    # Account for the power loss between the coil and the socket. That number was given by Siemens.\n",
    "    voltage_at_socket = ref_voltage * 10 ** -0.095\n",
    "\n",
    "    # Compute B1 map in [T/V]\n",
    "    b1_map = (acquired_fa / requested_fa) * (np.pi / (GAMMA * 1e-3 * voltage_at_socket))\n",
    "\n",
    "    # Convert to [nT/V]\n",
    "    b1_map = b1_map * 1e9\n",
    "\n",
    "    # Save as NIfTI file\n",
    "    nii_b1 = nib.Nifti1Image(b1_map, nii.affine, nii.header)\n",
    "    nib.save(nii_b1, f\"{subject}_TB1map.nii.gz\")"
   ]
  },
  {
   "cell_type": "code",
   "execution_count": null,
   "id": "740fda91",
   "metadata": {},
   "outputs": [],
   "source": [
    "# Extract B1+ value along the spinal cord between levels C3 and T2 (included)\n",
    "\n",
    "for subject in subjects:\n",
    "    os.chdir(os.path.join(path_data, subject, \"fmap\"))\n",
    "    fname_result_b1plus = os.path.join(path_results, f\"{subject}_TB1map.csv\")\n",
    "    !sct_extract_metric -i {subject}_TB1map.nii.gz -f {subject}_acq-anat_TB1TFL_seg.nii.gz -method wa -perslice 1 -o \"{fname_result_b1plus}\""
   ]
  },
  {
   "cell_type": "code",
   "execution_count": null,
   "id": "9ee2f89a",
   "metadata": {},
   "outputs": [],
   "source": [
    "def signal_extractor_from_csv(csv_filename):\n",
    "  # Load the CSV file into a Pandas DataFrame\n",
    "  dataframe = pd.read_csv(csv_filename, index_col='Slice (I->S)')\n",
    "  # Convert all the strings (123.4242, etc) of the WA column into actual numerical values\n",
    "  dataframe['WA()'] = pd.to_numeric(dataframe['WA()'], errors='coerce')\n",
    "  WA_matrix = dataframe['WA()'].to_numpy()\n",
    "  return WA_matrix\n",
    "\n",
    "b1_stds = []\n",
    "for subject in subjects:\n",
    "    TFL_B1_nTpV_along_cord = signal_extractor_from_csv(os.path.join(path_results, subject + \"_TB1map.csv\"))\n",
    "    TFL_B1_nTpV_along_cord = TFL_B1_nTpV_along_cord[~np.isnan(TFL_B1_nTpV_along_cord)] # remove NaNs\n",
    "    plt.plot(TFL_B1_nTpV_along_cord)\n",
    "    TFL_B1_nTpV_along_cord_mean = np.round(np.mean(TFL_B1_nTpV_along_cord))\n",
    "    std = np.std(TFL_B1_nTpV_along_cord)\n",
    "    titlestring= f\"B1+ efficiency [nT/V] along the cord in the warped mask. Mean value: {TFL_B1_nTpV_along_cord_mean} Std: {std}\"\n",
    "    b1_stds.append(std)\n",
    "    plt.title(titlestring)\n",
    "    plt.xlabel('Slice along the I-->S direction')\n",
    "    plt.ylabel('nT/V')\n",
    "    plt.show()"
   ]
  },
  {
   "cell_type": "code",
   "execution_count": null,
   "id": "9128d799",
   "metadata": {},
   "outputs": [],
   "source": [
    "# Indicate duration of data processing\n",
    "\n",
    "end_time = datetime.now()\n",
    "total_time = (end_time - start_time).total_seconds()\n",
    "\n",
    "# Convert seconds to a timedelta object\n",
    "total_time_delta = timedelta(seconds=total_time)\n",
    "\n",
    "# Format the timedelta object to a string\n",
    "formatted_time = str(total_time_delta)\n",
    "\n",
    "# Pad the string representation if less than an hour\n",
    "formatted_time = formatted_time.rjust(8, '0')\n",
    "\n",
    "print(f\"Total Runtime [hour:min:sec]: {formatted_time}\")"
   ]
  }
 ],
 "metadata": {
  "kernelspec": {
   "display_name": "Python 3 (ipykernel)",
   "language": "python",
   "name": "python3"
  },
  "language_info": {
   "codemirror_mode": {
    "name": "ipython",
    "version": 3
   },
   "file_extension": ".py",
   "mimetype": "text/x-python",
   "name": "python",
   "nbconvert_exporter": "python",
   "pygments_lexer": "ipython3",
   "version": "3.11.6"
  }
 },
 "nbformat": 4,
 "nbformat_minor": 5
}
